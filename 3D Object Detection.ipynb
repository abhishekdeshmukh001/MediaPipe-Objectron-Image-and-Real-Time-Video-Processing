{
 "cells": [
  {
   "cell_type": "code",
   "execution_count": null,
   "id": "48ad90f5",
   "metadata": {},
   "outputs": [],
   "source": [
    "import cv2\n",
    "import mediapipe as mp\n",
    "import matplotlib.pyplot as plt"
   ]
  },
  {
   "cell_type": "code",
   "execution_count": null,
   "id": "47e83fab",
   "metadata": {},
   "outputs": [],
   "source": [
    "mp_objectron = mp.solutions.objectron\n",
    "mp_drawing = mp.solutions.drawing_utils"
   ]
  },
  {
   "cell_type": "code",
   "execution_count": null,
   "id": "0e9342b4",
   "metadata": {},
   "outputs": [],
   "source": [
    "cap = cv2.VideoCapture(r'D:\\7.30 PM DATA SCIENCE AND AI\\DAILY SESSION MATERIALS\\NOV\\22nd- Mediapipe\\pexels_videos.mp4')"
   ]
  },
  {
   "cell_type": "code",
   "execution_count": null,
   "id": "79e7ad8b",
   "metadata": {},
   "outputs": [],
   "source": [
    "objectron = mp_objectron.Objectron(\n",
    "    static_image_mode= False,\n",
    "    min_detection_confidence= 0.4,\n",
    "    min_tracking_confidence= 0.7,\n",
    "    model_name= 'Cup'\n",
    ")\n",
    "\n",
    "desired_width = 700\n",
    "desired_height = 400\n",
    "\n",
    "while cap.isOpened():\n",
    "    success, image = cap.read()\n",
    "    image = cv2.resize(image, (desired_width, desired_height))\n",
    "    if not success:\n",
    "        break\n",
    "        \n",
    "    image.flags.writeable = False\n",
    "    \n",
    "    # Convert the image to RGB\n",
    "    image = cv2.cvtColor(image, cv2.COLOR_BGR2RGB)\n",
    "    \n",
    "    # Process the image\n",
    "    results = objectron.process(image)\n",
    "    \n",
    "    image.flags.writeable = True\n",
    "    \n",
    "    # Convert the image back to BGR\n",
    "    image = cv2.cvtColor(image, cv2.COLOR_BGR2RGB)\n",
    "    \n",
    "    if results.detected_objects:\n",
    "        for detected_object in results.detected_objects:\n",
    "            # Draw 2D Landmarks\n",
    "            mp_drawing.draw_landmarks(image,\n",
    "                                      detected_object.landmarks_2d,\n",
    "                                      mp_objectron.BOX_CONNECTIONS)\n",
    "            \n",
    "            # Draw 3D Axis\n",
    "            mp_drawing.draw_axis(image,\n",
    "                                 detected_object.rotation,\n",
    "                                 detected_object.translation)\n",
    "            \n",
    "    # Display the image\n",
    "    cv2.imshow('Mediapipe Objectron', cv2.flip(image, 1))\n",
    "    \n",
    "    if cv2.waitKey(1) & 0xFF==ord('q'):\n",
    "        break\n",
    "        \n",
    "cap.release()\n",
    "cv2.destroyAllWindows()"
   ]
  },
  {
   "cell_type": "code",
   "execution_count": null,
   "id": "bb1ec70f",
   "metadata": {},
   "outputs": [],
   "source": []
  }
 ],
 "metadata": {
  "kernelspec": {
   "display_name": "Python 3 (ipykernel)",
   "language": "python",
   "name": "python3"
  },
  "language_info": {
   "codemirror_mode": {
    "name": "ipython",
    "version": 3
   },
   "file_extension": ".py",
   "mimetype": "text/x-python",
   "name": "python",
   "nbconvert_exporter": "python",
   "pygments_lexer": "ipython3",
   "version": "3.11.5"
  }
 },
 "nbformat": 4,
 "nbformat_minor": 5
}
